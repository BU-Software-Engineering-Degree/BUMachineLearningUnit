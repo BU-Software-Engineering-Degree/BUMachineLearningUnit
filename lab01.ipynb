{
  "cells": [
    {
      "cell_type": "markdown",
      "metadata": {
        "id": "93TMu0SaXo00"
      },
      "source": [
        "# Machine Learning Lab 1\n",
        "\n",
        "This is a test Jupyter Notebook, which loads a data set (of Iris flowers), trains a Decision Tree and visualises it using Graphviz.\n",
        "\n",
        "We will be delving into all of these things throughout the unit - for now, the key is just to check that this runs :)\n",
        "\n",
        "To run code in a cell, just click the cell and hit **SHIFT + ENTER**.\n",
        "\n",
        "Or... Press the **run** button (play icon when you hover the mouse over a cell).\n",
        "\n",
        "Alternatively, to run **all** the cells in the notebook.\n",
        "\n",
        "* In Google Colab: go to the file menu --> **Runtime** --> **Run All**.\n",
        "\n",
        "* In native Jupyter: go to the file menu --> **Cell** --> **Run All**."
      ]
    },
    {
      "cell_type": "code",
      "source": [
        "from google.colab import drive\n",
        "drive.mount('/content/drive')"
      ],
      "metadata": {
        "id": "lVn-7xt8Ybik"
      },
      "execution_count": null,
      "outputs": []
    },
    {
      "cell_type": "markdown",
      "metadata": {
        "id": "giDbWXJzXo0_"
      },
      "source": [
        "## Imports"
      ]
    },
    {
      "cell_type": "code",
      "execution_count": null,
      "metadata": {
        "ExecuteTime": {
          "end_time": "2023-09-29T10:39:57.187820Z",
          "start_time": "2023-09-29T10:39:38.959508Z"
        },
        "id": "PT7nvYAEXo1B"
      },
      "outputs": [],
      "source": [
        "# Data and Datasets\n",
        "import numpy as np\n",
        "import pandas as pd\n",
        "from sklearn.datasets import load_iris\n",
        "\n",
        "# Validation methods\n",
        "from sklearn.model_selection import train_test_split\n",
        "\n",
        "# Metrics\n",
        "from sklearn import metrics\n",
        "\n",
        "# Classifiers\n",
        "from sklearn.tree import DecisionTreeClassifier\n",
        "\n",
        "# Plotting & utils\n",
        "import matplotlib as plt\n",
        "from IPython.display import display\n",
        "from IPython.display import SVG\n",
        "from graphviz import Source\n",
        "from sklearn.tree import export_graphviz"
      ]
    },
    {
      "cell_type": "markdown",
      "metadata": {
        "id": "hivPSqzFXo1E"
      },
      "source": [
        "## Loading and processing the dataset"
      ]
    },
    {
      "cell_type": "code",
      "execution_count": null,
      "metadata": {
        "ExecuteTime": {
          "end_time": "2023-09-24T15:00:47.582652Z",
          "start_time": "2023-09-24T15:00:47.514526Z"
        },
        "id": "oQ0HG5J6Xo1F"
      },
      "outputs": [],
      "source": [
        "# Loading dataset\n",
        "dataset = load_iris()\n",
        "X = dataset.data\n",
        "y = dataset.target\n",
        "\n",
        "# Converting into a Pandas DataFrame\n",
        "dataset_df = pd.DataFrame(data= np.c_[X, y], columns=dataset['feature_names'] + ['target'])\n",
        "\n",
        "# Converting the target column to int (from float)\n",
        "dataset_df['target'] = pd.to_numeric(dataset_df['target'], downcast='integer')\n",
        "\n",
        "# Printing out the top 5 rows of the DataFrame\n",
        "dataset_df.head()"
      ]
    },
    {
      "cell_type": "code",
      "execution_count": null,
      "metadata": {
        "ExecuteTime": {
          "end_time": "2023-09-24T15:00:47.590457Z",
          "start_time": "2023-09-24T15:00:47.584732Z"
        },
        "id": "ZzY02UNuXo1G"
      },
      "outputs": [],
      "source": [
        "# Splitting dataset for hold-out validation\n",
        "X_train, X_test, y_train, y_test = train_test_split(X, # feature matrix\n",
        "                                                    y, # label vector\n",
        "                                                    test_size=0.2, # 20% test / 80% traing\n",
        "                                                    random_state=1, # fixed random seed\n",
        "                                                    stratify=dataset.target # split dataset proportional to classes\n",
        "                                                   )"
      ]
    },
    {
      "cell_type": "markdown",
      "metadata": {
        "id": "6cKV0rO6Xo1J"
      },
      "source": [
        "## Creating and running a Decision Tree"
      ]
    },
    {
      "cell_type": "code",
      "execution_count": null,
      "metadata": {
        "ExecuteTime": {
          "end_time": "2023-09-24T15:00:47.598564Z",
          "start_time": "2023-09-24T15:00:47.593244Z"
        },
        "id": "5ixTl-U0Xo1L"
      },
      "outputs": [],
      "source": [
        "# Creating and testing a Decision Tree\n",
        "model = DecisionTreeClassifier(random_state=1337, max_depth=None)\n",
        "model.fit(X_train, y_train)\n",
        "y_pred = model.predict(X_test)\n",
        "\n",
        "# Printing out performance of the Decision Tree\n",
        "print(\"Accuracy: %s\" % (metrics.accuracy_score(y_test, y_pred)*100))"
      ]
    },
    {
      "cell_type": "markdown",
      "metadata": {
        "id": "Hfifmc7NXo1M"
      },
      "source": [
        "## Visualising the Decision Tree"
      ]
    },
    {
      "cell_type": "code",
      "execution_count": null,
      "metadata": {
        "ExecuteTime": {
          "end_time": "2023-09-24T15:00:49.184423Z",
          "start_time": "2023-09-24T15:00:47.599752Z"
        },
        "id": "WxMlmuYhXo1O"
      },
      "outputs": [],
      "source": [
        "feature_names = list(dataset['feature_names'])\n",
        "class_labels = ['0', '1', '2']\n",
        "\n",
        "graph = Source(export_graphviz(model, out_file=None\n",
        "   , feature_names=feature_names, class_names=['0', '1', '2']\n",
        "   , filled = True))\n",
        "\n",
        "graph_svg = SVG(graph.pipe(format='svg'))\n",
        "display(graph_svg)"
      ]
    },
    {
      "cell_type": "markdown",
      "metadata": {
        "id": "Uh7Zr8tlXo1Q"
      },
      "source": [
        "## Python code"
      ]
    },
    {
      "cell_type": "code",
      "execution_count": null,
      "metadata": {
        "ExecuteTime": {
          "end_time": "2023-09-25T10:37:16.084485Z",
          "start_time": "2023-09-25T10:37:16.081312Z"
        },
        "id": "0rgpKf1gXo1Q"
      },
      "outputs": [],
      "source": [
        "import random # to generate random numbers with\n",
        "\n",
        "# TODO: create 'get_results' function here\n",
        "\n"
      ]
    },
    {
      "cell_type": "code",
      "execution_count": null,
      "metadata": {
        "ExecuteTime": {
          "end_time": "2023-09-25T10:37:17.526391Z",
          "start_time": "2023-09-25T10:37:17.521651Z"
        },
        "id": "bCMEWUC0Xo1R"
      },
      "outputs": [],
      "source": [
        "# TODO: call the 'get_results' function here and print out the results\n",
        "\n"
      ]
    },
    {
      "cell_type": "code",
      "execution_count": null,
      "metadata": {
        "id": "dWoRbgNWXo1S"
      },
      "outputs": [],
      "source": []
    }
  ],
  "metadata": {
    "kernelspec": {
      "display_name": "Python 3 (ipykernel)",
      "language": "python",
      "name": "python3"
    },
    "language_info": {
      "codemirror_mode": {
        "name": "ipython",
        "version": 3
      },
      "file_extension": ".py",
      "mimetype": "text/x-python",
      "name": "python",
      "nbconvert_exporter": "python",
      "pygments_lexer": "ipython3",
      "version": "3.11.1"
    },
    "toc": {
      "base_numbering": 1,
      "nav_menu": {},
      "number_sections": true,
      "sideBar": true,
      "skip_h1_title": false,
      "title_cell": "Table of Contents",
      "title_sidebar": "Contents",
      "toc_cell": false,
      "toc_position": {},
      "toc_section_display": true,
      "toc_window_display": true
    },
    "varInspector": {
      "cols": {
        "lenName": 16,
        "lenType": 16,
        "lenVar": 40
      },
      "kernels_config": {
        "python": {
          "delete_cmd_postfix": "",
          "delete_cmd_prefix": "del ",
          "library": "var_list.py",
          "varRefreshCmd": "print(var_dic_list())"
        },
        "r": {
          "delete_cmd_postfix": ") ",
          "delete_cmd_prefix": "rm(",
          "library": "var_list.r",
          "varRefreshCmd": "cat(var_dic_list()) "
        }
      },
      "types_to_exclude": [
        "module",
        "function",
        "builtin_function_or_method",
        "instance",
        "_Feature"
      ],
      "window_display": false
    },
    "colab": {
      "provenance": []
    }
  },
  "nbformat": 4,
  "nbformat_minor": 0
}
