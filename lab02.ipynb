{
  "cells": [
    {
      "cell_type": "markdown",
      "metadata": {
        "id": "NLYhNU3eWNI8"
      },
      "source": [
        "# Machine Learning Lab 02\n",
        "\n",
        "For this lab, you can find sections for NumPy, Pandas, Matplotlib, Exploratory Data Analysis, and the optional Analysis of Anscombe's Quartet.\n",
        "\n",
        "Please add new cells for your code to expand this notebook (**File** --> **Insert**)"
      ]
    },
    {
      "cell_type": "markdown",
      "metadata": {
        "id": "GbAUSPjSWNJC"
      },
      "source": [
        "## NumPy"
      ]
    },
    {
      "cell_type": "code",
      "execution_count": 11,
      "metadata": {
        "colab": {
          "base_uri": "https://localhost:8080/"
        },
        "id": "Sk30_NDEWNJE",
        "outputId": "617ca3c6-a818-49a7-e7b1-11c9f8c4af8e"
      },
      "outputs": [
        {
          "output_type": "stream",
          "name": "stdout",
          "text": [
            "[0. 1. 2. 3. 4. 3. 2. 1. 0. 3.]\n",
            "[[1 3 3 7]\n",
            " [4 2 4 2]]\n"
          ]
        }
      ],
      "source": [
        "# 1.2 - Creating NumPy arrays\n",
        "\n",
        "import numpy as np\n",
        "\n",
        "an_array = np.array([])\n",
        "another_array = np.array([0,1,2,3,4,3,2,1,0,3])\n",
        "an_array = np.append(an_array, another_array)\n",
        "print(an_array)\n",
        "\n",
        "c = np.array([(1,3,3,7),(4,2,4,2)])\n",
        "print(c)"
      ]
    },
    {
      "cell_type": "code",
      "source": [
        "# 1.3 - Accessing data in arrays\n",
        "\n",
        "print('3rd value (at index 2):',another_array[2])\n",
        "print(\"Value at (0, 2) =\", c[0][2])\n",
        "print(\"1st row =\", c[0])\n",
        "print(\"2nd column =\", c[:,1])\n",
        "print(\"2nd column (up to 1st row) =\", c[:1,1])\n",
        "print(\"2nd column (up to 5th row) =\", c[:5,1])"
      ],
      "metadata": {
        "colab": {
          "base_uri": "https://localhost:8080/"
        },
        "id": "i3cXSwfSfUPC",
        "outputId": "1326d302-5b16-4e5c-9fde-a9f959119531"
      },
      "execution_count": 16,
      "outputs": [
        {
          "output_type": "stream",
          "name": "stdout",
          "text": [
            "3rd value (at index 2): 2\n",
            "Value at (0, 2) = 3\n",
            "1st row = [1 3 3 7]\n",
            "2nd column = [3 2]\n",
            "2nd column (up to 1st row) = [3]\n",
            "2nd column (up to 5th row) = [3 2]\n"
          ]
        }
      ]
    },
    {
      "cell_type": "code",
      "source": [
        "# 1.4 - Iterating over arrays\n",
        "\n",
        "for i in range(another_array.size):\n",
        "    print(another_array[i])\n",
        "print(\"---------------\")\n",
        "\n",
        "for value in another_array:\n",
        "    print(value)\n",
        "print(\"---------------\")\n",
        "\n",
        "for row in c:\n",
        "    print(row)\n",
        "print(\"---------------\")\n",
        "\n",
        "print(\"Iterating over each element, row by row\")\n",
        "for row in c:\n",
        "    for cell in row:\n",
        "        print(cell, end=' ')\n",
        "print(\"\\n---------------\")\n",
        "\n",
        "print(\"Iterating over each element, using flatten function\")\n",
        "for cell in c.flatten():\n",
        "    print(cell, end=' ')"
      ],
      "metadata": {
        "id": "HjpB5AY5m0Nk",
        "outputId": "19805b29-284b-40b9-d9a5-8974b911c9e6",
        "colab": {
          "base_uri": "https://localhost:8080/"
        }
      },
      "execution_count": 20,
      "outputs": [
        {
          "output_type": "stream",
          "name": "stdout",
          "text": [
            "0\n",
            "1\n",
            "2\n",
            "3\n",
            "4\n",
            "3\n",
            "2\n",
            "1\n",
            "0\n",
            "3\n",
            "---------------\n",
            "0\n",
            "1\n",
            "2\n",
            "3\n",
            "4\n",
            "3\n",
            "2\n",
            "1\n",
            "0\n",
            "3\n",
            "---------------\n",
            "[1 3 3 7]\n",
            "[4 2 4 2]\n",
            "---------------\n",
            "Iterating over each element, row by row\n",
            "1 3 3 7 4 2 4 2 \n",
            "---------------\n",
            "Iterating over each element, using flatten function\n",
            "1 3 3 7 4 2 4 2 "
          ]
        }
      ]
    },
    {
      "cell_type": "code",
      "source": [
        "# 1.5 - NumPy functions and attributes\n",
        "\n"
      ],
      "metadata": {
        "id": "uGIKk0d-oAsK"
      },
      "execution_count": null,
      "outputs": []
    },
    {
      "cell_type": "markdown",
      "metadata": {
        "id": "G-TOg9vTWNJF"
      },
      "source": [
        "## SciPy"
      ]
    },
    {
      "cell_type": "code",
      "execution_count": null,
      "metadata": {
        "id": "eTUefM5FWNJH"
      },
      "outputs": [],
      "source": []
    },
    {
      "cell_type": "markdown",
      "metadata": {
        "id": "HFKq1PyQWNJH"
      },
      "source": [
        "## Pandas"
      ]
    },
    {
      "cell_type": "code",
      "execution_count": null,
      "metadata": {
        "id": "Q9SJs5asWNJI"
      },
      "outputs": [],
      "source": []
    },
    {
      "cell_type": "markdown",
      "metadata": {
        "id": "RAij77gAWNJJ"
      },
      "source": [
        "## Matplotlib"
      ]
    },
    {
      "cell_type": "code",
      "execution_count": null,
      "metadata": {
        "id": "MRIX14GKWNJL"
      },
      "outputs": [],
      "source": []
    },
    {
      "cell_type": "markdown",
      "metadata": {
        "id": "sbJh3JdiWNJL"
      },
      "source": [
        "## Exploratory Data Analysis\n",
        "\n",
        "Some of the cells below already got code doing things for you.\n",
        "\n",
        "Some cells are empty for you to do _stuff_ in to **answer questions**!\n",
        "\n",
        "See lab task notes for the list of questions if you want to see them all in one place."
      ]
    },
    {
      "cell_type": "markdown",
      "metadata": {
        "id": "oGsRV1AkWNJN"
      },
      "source": [
        "### Loading the dataset\n",
        "\n",
        "First, we load the dataset, then we can execute various functions to explore the data, calculate statistics and plot graphs."
      ]
    },
    {
      "cell_type": "code",
      "execution_count": null,
      "metadata": {
        "ExecuteTime": {
          "end_time": "2021-10-04T15:00:04.732125Z",
          "start_time": "2021-10-04T15:00:04.334215Z"
        },
        "id": "tYF6hnCfWNJN"
      },
      "outputs": [],
      "source": [
        "import pandas as pd\n",
        "\n",
        "dataset = pd.read_csv('data/ml-assessment-dataset.csv')\n",
        "dataset.head()"
      ]
    },
    {
      "cell_type": "markdown",
      "metadata": {
        "id": "uDM6tUArWNJP"
      },
      "source": [
        "### Exploring the dataset\n",
        "\n",
        "The overall aim for the data exploration here is to get a feel for some of the influences on the machine learning marks for past students.\n",
        "\n",
        "Let's focus on two features for this:\n",
        " * Class (1 = pass, 0 = fail)\n",
        " * Total mark (the total unit mark, range 0-100)\n",
        " * L4 mean mark (to mean mark across all 6 level 4 units)"
      ]
    },
    {
      "cell_type": "markdown",
      "metadata": {
        "id": "-WmSHfcfWNJR"
      },
      "source": [
        "#### General information\n",
        "\n",
        "Questions to answer:\n",
        "* How many instances are there in the dataset?\n",
        "* What is the mean mark (total), including non-submissions?"
      ]
    },
    {
      "cell_type": "code",
      "execution_count": null,
      "metadata": {
        "ExecuteTime": {
          "end_time": "2021-10-04T15:00:04.735467Z",
          "start_time": "2021-10-04T15:00:04.733846Z"
        },
        "id": "X1xuDAdHWNJS"
      },
      "outputs": [],
      "source": [
        "# TODO: answer the two questions with the following functions\n",
        "# .info()\n",
        "# .describe()\n",
        "\n"
      ]
    },
    {
      "cell_type": "markdown",
      "metadata": {
        "id": "B6b2sbzsWNJT"
      },
      "source": [
        "#### Class (pass/fail) analysis\n",
        "\n",
        "Questions to answer:\n",
        "* Is the class balance equal?\n",
        "* Which class is the MOST represented in the dataset?\n",
        "* How many students passed?"
      ]
    },
    {
      "cell_type": "code",
      "execution_count": null,
      "metadata": {
        "ExecuteTime": {
          "end_time": "2021-10-04T15:00:04.739764Z",
          "start_time": "2021-10-04T15:00:04.737571Z"
        },
        "id": "4L3MtRwNWNJT"
      },
      "outputs": [],
      "source": [
        "# TODO: NUMERIC OUTPUT FOR CLASS BALANCE (NUMBER OF VALUES/INSTANCES FOR EACH CLASS)\n"
      ]
    },
    {
      "cell_type": "code",
      "execution_count": null,
      "metadata": {
        "ExecuteTime": {
          "end_time": "2021-10-04T15:00:04.743469Z",
          "start_time": "2021-10-04T15:00:04.741988Z"
        },
        "id": "kkwijt1HWNJU"
      },
      "outputs": [],
      "source": [
        "# TODO: CHART FOR CLASS DISTRIBUTION\n"
      ]
    },
    {
      "cell_type": "markdown",
      "metadata": {
        "id": "6aTMQ6xVWNJU"
      },
      "source": [
        "#### Mark analysis\n",
        "\n",
        "Questions to answer:\n",
        "\n",
        "* What is the mean mark (total), including non-submissions?\n",
        "* What is the mean mark (total), excluding non-submissions?\n",
        "* What is the mean level 4 mark for the students who passed?\n",
        "* What is the mean level 4 mark for the students who failed?"
      ]
    },
    {
      "cell_type": "code",
      "execution_count": null,
      "metadata": {
        "id": "h99nQT5xWNJV"
      },
      "outputs": [],
      "source": [
        "# To get the mean of a specific feature/column, you can use this format:\n",
        "#   dataset['COLUMN_NAME'].mean()\n",
        "\n"
      ]
    },
    {
      "cell_type": "code",
      "execution_count": null,
      "metadata": {
        "ExecuteTime": {
          "end_time": "2021-10-04T15:00:04.881199Z",
          "start_time": "2021-10-04T15:00:04.748755Z"
        },
        "id": "uxhoPZ11WNJV"
      },
      "outputs": [],
      "source": [
        "# Have a go at using one of these functions for the first 2 questions\n",
        "#\n",
        "#    dataset['COLUMN_NAME_FOR_THE_VALUES_YOU_WANT'][dataset['COLUMN_NAME_TO_FILTER_BY'] == FILTER_VALUE_YOU_WANT].mean()\n",
        "#    dataset.groupby('COLUMN_NAME_TO_GROUP_BY')['COLUMN_NAME_FOR_THE_VALUES_YOU_WANT'].mean()\n",
        "#\n",
        "# For example, the following would print out the mean age of ANYBODY (female and male) without heart diseas\n",
        "#\n",
        "#    print(dataset['Total mark'][dataset['Class'] == 0].mean())\n",
        "#    print(dataset.groupby('Class')['Total mark'].mean())\n",
        "#\n",
        "# In the examples above, you want to find out the mean ages for genders, not the class (for the first 2 questions)\n",
        "# Remember, column names are case sensitive\n",
        "\n",
        "# TODO: Mean mark for those submitted (excluding non-submissions)\n",
        "\n",
        "\n",
        "\n",
        "# TODO: Mean level 4 mark for those students who passed vs failed\n",
        "\n"
      ]
    },
    {
      "cell_type": "markdown",
      "metadata": {
        "id": "TqGmV1awWNJW"
      },
      "source": [
        "## Analysis of Anscombe's Quartet\n",
        "\n",
        "There are many ways you can play around with the data and have a look at it, e.g.,\n",
        "\n",
        "1. a hardcoded approach using numpy and matplotlib\n",
        "2. an approach using pandas and reading directly from Excel\n",
        "\n",
        "The example code below uses option 1 just to keep it simpler here."
      ]
    },
    {
      "cell_type": "code",
      "execution_count": null,
      "metadata": {
        "ExecuteTime": {
          "end_time": "2021-10-04T15:00:04.886337Z",
          "start_time": "2021-10-04T15:00:04.348Z"
        },
        "id": "56tuybl0WNJW"
      },
      "outputs": [],
      "source": [
        "import numpy as np\n",
        "from scipy import stats\n",
        "from numpy.polynomial.polynomial import polyfit\n",
        "import matplotlib.pyplot as plt\n",
        "\n",
        "# Anscombe's 1st dataset\n",
        "x1 = np.array([10, 8, 13, 9, 11, 14, 6, 4, 12, 7, 5])\n",
        "y1 = np.array([8.04, 6.95, 7.58, 8.81, 8.33, 9.96, 7.24, 4.26, 10.84, 4.82, 5.68])\n",
        "\n",
        "# Anscombe's 2nd dataset\n",
        "x2 = np.array([10, 8, 13, 9, 11, 14, 6, 4, 12, 7, 5])\n",
        "y2 = np.array([9.14, 8.14, 8.74, 8.77, 9.26, 8.1, 6.13, 3.1, 9.13, 7.26, 4.74])\n",
        "\n",
        "# TODO: Anscombe's 3rd dataset\n",
        "\n",
        "\n",
        "# TODO: Anscombe's 4th dataset\n",
        "\n"
      ]
    },
    {
      "cell_type": "markdown",
      "metadata": {
        "id": "PIH_UB4TWNJW"
      },
      "source": [
        "### Print out the stats\n",
        "\n",
        "* mean\n",
        "* median\n",
        "* mode\n",
        "* variance\n",
        "* standard deviation"
      ]
    },
    {
      "cell_type": "code",
      "execution_count": null,
      "metadata": {
        "ExecuteTime": {
          "end_time": "2021-10-04T15:00:04.887267Z",
          "start_time": "2021-10-04T15:00:04.351Z"
        },
        "id": "JQp7XyipWNJX"
      },
      "outputs": [],
      "source": [
        "print(\"Anscombe stats\\n\")\n",
        "# TODO (using Numpy and SciPy)\n",
        "\n"
      ]
    },
    {
      "cell_type": "markdown",
      "metadata": {
        "id": "YIZXl7xLWNJX"
      },
      "source": [
        "### Plot regression lines\n",
        "\n",
        "This is more challenging, but you can use the following code as the basis for:\n",
        "\n",
        "* Calculate/create regression lines for the 3rd and 4th datasets (that you added above)\n",
        "* Change the subplot configuration to a 2 x 2 grid (currently 1 x 2)\n",
        "* Plot the 3rd and 4th datasets (as subplots with the 1st and 2nd datasets)\n",
        "\n",
        "**REFLECT** on the stats above and what you see in the images."
      ]
    },
    {
      "cell_type": "code",
      "execution_count": null,
      "metadata": {
        "ExecuteTime": {
          "end_time": "2021-10-04T15:00:04.888470Z",
          "start_time": "2021-10-04T15:00:04.353Z"
        },
        "id": "Lu1n-UQZWNJX"
      },
      "outputs": [],
      "source": [
        "# Linear regression lines\n",
        "b1, m1 = polyfit(x1, y1, 1)\n",
        "b2, m2 = polyfit(x2, y2, 1)\n",
        "\n",
        "# Setting up figure with two sub-plots\n",
        "fig, axs = plt.subplots(1, 2, figsize=(16, 6), sharey=True)\n",
        "fig.suptitle(\"Anscombe's Quartet\")\n",
        "\n",
        "# Adding figure for Ans-1\n",
        "axs[0].plot(x1, y1, '.')\n",
        "axs[0].plot(x1, b1 + m1 * x1, '-')\n",
        "axs[0].set_xlabel('x')\n",
        "axs[0].set_ylabel('y')\n",
        "\n",
        "# Adding figure for Ans-2\n",
        "axs[1].plot(x2, y2, '.')\n",
        "axs[1].plot(x2, b2 + m2 * x2, '-')\n",
        "axs[0].set_xlabel('x')\n",
        "axs[0].set_ylabel('y')"
      ]
    },
    {
      "cell_type": "code",
      "execution_count": null,
      "metadata": {
        "id": "17lzefvyWNJY"
      },
      "outputs": [],
      "source": []
    }
  ],
  "metadata": {
    "kernelspec": {
      "display_name": "Python 3 (ipykernel)",
      "language": "python",
      "name": "python3"
    },
    "language_info": {
      "codemirror_mode": {
        "name": "ipython",
        "version": 3
      },
      "file_extension": ".py",
      "mimetype": "text/x-python",
      "name": "python",
      "nbconvert_exporter": "python",
      "pygments_lexer": "ipython3",
      "version": "3.11.1"
    },
    "toc": {
      "base_numbering": 1,
      "nav_menu": {},
      "number_sections": true,
      "sideBar": true,
      "skip_h1_title": false,
      "title_cell": "Table of Contents",
      "title_sidebar": "Contents",
      "toc_cell": false,
      "toc_position": {},
      "toc_section_display": true,
      "toc_window_display": true
    },
    "varInspector": {
      "cols": {
        "lenName": 16,
        "lenType": 16,
        "lenVar": 40
      },
      "kernels_config": {
        "python": {
          "delete_cmd_postfix": "",
          "delete_cmd_prefix": "del ",
          "library": "var_list.py",
          "varRefreshCmd": "print(var_dic_list())"
        },
        "r": {
          "delete_cmd_postfix": ") ",
          "delete_cmd_prefix": "rm(",
          "library": "var_list.r",
          "varRefreshCmd": "cat(var_dic_list()) "
        }
      },
      "types_to_exclude": [
        "module",
        "function",
        "builtin_function_or_method",
        "instance",
        "_Feature"
      ],
      "window_display": false
    },
    "colab": {
      "provenance": []
    }
  },
  "nbformat": 4,
  "nbformat_minor": 0
}
