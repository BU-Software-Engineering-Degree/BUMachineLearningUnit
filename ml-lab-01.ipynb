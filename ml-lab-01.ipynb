{
  "cells": [
    {
      "cell_type": "markdown",
      "metadata": {
        "id": "view-in-github",
        "colab_type": "text"
      },
      "source": [
        "<a href=\"https://colab.research.google.com/github/bu-ml-bonus/ml-bonus-02---python-revision-LithiumDrache/blob/main/ml-bonus-02-python.ipynb\" target=\"_parent\"><img src=\"https://colab.research.google.com/assets/colab-badge.svg\" alt=\"Open In Colab\"/></a>"
      ]
    },
    {
      "cell_type": "markdown",
      "metadata": {
        "id": "02cp5xBSc9L7"
      },
      "source": [
        "# Machine Learning Bonus 2 - Python\n"
      ]
    },
    {
      "cell_type": "markdown",
      "metadata": {
        "id": "8S_Uq7ouc9MD"
      },
      "source": [
        "You can do the python practice for this lab in what ever IDE you want, but you are encouraged to get familiar with using Jupyter Notebooks, so you can do both at the same time ;)\n",
        "\n",
        "To run code in a cell, just click the cell and hit **SHIFT + ENTER**.\n",
        "\n",
        "Or... Press the **run** button (play icon when you hover the mouse over a cell).\n",
        "\n",
        "Alternatively, to run **all** the cells in the notebook.\n",
        "\n",
        "* In Google Colab: go to the file menu --> **Runtime** --> **Run All**.\n",
        "\n",
        "* In native Jupyter: go to the file menu --> **Cell** --> **Run All**."
      ]
    },
    {
      "cell_type": "markdown",
      "metadata": {
        "ExecuteTime": {
          "end_time": "2020-10-13T10:14:08.187715Z",
          "start_time": "2020-10-13T10:14:08.050918Z"
        },
        "id": "koJxz4q1c9ME"
      },
      "source": [
        "## Variables\n",
        "\n",
        "You can create more cells within the coding sections by going to the file menu: **Insert** --> **Code Cell**.\n",
        "\n",
        "**PS**: worth noting the keyboard shortcut for doing that."
      ]
    },
    {
      "cell_type": "code",
      "execution_count": 12,
      "metadata": {
        "ExecuteTime": {
          "end_time": "2023-09-25T06:04:58.885760Z",
          "start_time": "2023-09-25T06:04:58.877583Z"
        },
        "id": "a6IfvOhlc9MF",
        "outputId": "11b401b4-99ba-49bb-897d-6c12da4b3630",
        "colab": {
          "base_uri": "https://localhost:8080/"
        }
      },
      "outputs": [
        {
          "output_type": "stream",
          "name": "stdout",
          "text": [
            "a_variable = 10 - type <class 'int'>\n",
            "a_avriable = 20 - type <class 'int'>\n",
            "a_avriable = 20.0 - type <class 'float'>\n",
            "another_variable = 10 - type <class 'int'>\n",
            "another_variable = machine - type <class 'str'>\n",
            "another_variable = machine learning - type <class 'str'>\n",
            "another_variable = machine\n",
            "\tlearning - type <class 'str'>\n",
            "True \n",
            " False\n"
          ]
        }
      ],
      "source": [
        "a_variable = 10\n",
        "print(\"a_variable =\", a_variable, \"- type\", type(a_variable))\n",
        "print(\"a_avriable =\", a_variable+10, \"- type\", type(a_variable))\n",
        "\n",
        "a_variable = 10 + 10.0\n",
        "print(\"a_avriable =\", a_variable, \"- type\", type(a_variable))\n",
        "\n",
        "a_variable = 10\n",
        "another_variable = a_variable\n",
        "print(\"another_variable =\", another_variable, \"- type\", type(another_variable))\n",
        "\n",
        "another_variable = 'machine'\n",
        "print(\"another_variable =\", another_variable, \"- type\", type(another_variable))\n",
        "print(\"another_variable =\", another_variable+' learning', \"- type\", type(another_variable))\n",
        "print(\"another_variable =\", another_variable+'\\n\\tlearning', \"- type\", type(another_variable))\n",
        "\n",
        "boolean_variable = True\n",
        "another_boolean_variable = not boolean_variable\n",
        "print(boolean_variable, \"\\n\",  another_boolean_variable)"
      ]
    },
    {
      "cell_type": "markdown",
      "metadata": {
        "id": "BZkzUQwwc9MH"
      },
      "source": [
        "## Data structures\n",
        "\n"
      ]
    },
    {
      "cell_type": "code",
      "execution_count": 26,
      "metadata": {
        "ExecuteTime": {
          "end_time": "2021-11-23T11:23:22.286072Z",
          "start_time": "2021-11-23T11:23:22.276420Z"
        },
        "id": "eJnt0IXpc9MI",
        "outputId": "d831fb82-8449-476a-e927-6908b316099f",
        "colab": {
          "base_uri": "https://localhost:8080/"
        }
      },
      "outputs": [
        {
          "output_type": "stream",
          "name": "stdout",
          "text": [
            "[]\n",
            "['Li', 'Dom', 'Charlie', 'Miles', 'Tom', 'Ollie']\n",
            "Dom\n",
            "['Li', 'Dom', 'Charles', 'Miles', 'Tom', 'Ollie']\n"
          ]
        }
      ],
      "source": [
        "# 1D Array - Python\n",
        "\n",
        "mylist = []\n",
        "print (mylist)\n",
        "\n",
        "mylist = [\"Li\",\"Dom\",\"Charlie\",\"Miles\",\"Tom\",\"Ollie\"]\n",
        "print (mylist)\n",
        "\n",
        "print (mylist[1])\n",
        "\n",
        "mylist[2] = \"Charles\"\n",
        "print (mylist)"
      ]
    },
    {
      "cell_type": "code",
      "source": [
        "# 1D Array - Numpy\n",
        "import numpy\n",
        "\n",
        "arr = numpy.array([])\n",
        "print (arr)\n",
        "\n",
        "arr = numpy.array([\"Li\",\"Dom\",\"Charlie\",\"Miles\",\"Tom\",\"Ollie\"])\n",
        "print (arr)\n",
        "\n",
        "print (arr[1])\n",
        "\n",
        "arr[2] = \"Charles\"\n",
        "print (arr)"
      ],
      "metadata": {
        "id": "kuvKCFTfmEr8",
        "outputId": "86c0effa-3de3-40b1-e0a3-07c5772c9a87",
        "colab": {
          "base_uri": "https://localhost:8080/"
        }
      },
      "execution_count": 25,
      "outputs": [
        {
          "output_type": "stream",
          "name": "stdout",
          "text": [
            "[]\n",
            "['Li' 'Dom' 'Charlie' 'Miles' 'Tom' 'Ollie']\n",
            "Dom\n",
            "['Li' 'Dom' 'Charles' 'Miles' 'Tom' 'Ollie']\n"
          ]
        }
      ]
    },
    {
      "cell_type": "code",
      "source": [
        "# 2D Array\n",
        "import numpy\n",
        "\n",
        "arr = numpy.array([[1,2,3], [4,5,6]])\n",
        "print(arr[0])\n",
        "print(arr[1])\n",
        "\n",
        "arr[0,1] = 7\n",
        "print(arr)"
      ],
      "metadata": {
        "id": "4bFmHALYk2HZ",
        "outputId": "8aa2a015-d345-4ada-d983-ea3a3d132d6d",
        "colab": {
          "base_uri": "https://localhost:8080/"
        }
      },
      "execution_count": 27,
      "outputs": [
        {
          "output_type": "stream",
          "name": "stdout",
          "text": [
            "[1 2 3]\n",
            "[4 5 6]\n",
            "[[1 7 3]\n",
            " [4 5 6]]\n"
          ]
        }
      ]
    },
    {
      "cell_type": "code",
      "source": [
        "# Tuples\n",
        "\n",
        "mytuple = (\"Li\",\"Dom\",\"Charlie\")\n",
        "\n",
        "print (mytuple[1])\n",
        "\n",
        "mylist = []\n",
        "mytuple1 = (\"Li\",\"Dom\")\n",
        "mylist.append(mytuple1)\n",
        "mytuple2 = (\"Charlie\",\"Miles\")\n",
        "mylist.append(mytuple2)\n",
        "mytuple3 = (\"Tom\",\"Ollie\")\n",
        "mylist.append(mytuple3)\n",
        "print (mylist[1])\n",
        "print (mylist[1][1])"
      ],
      "metadata": {
        "id": "FVtDnFYZmVoQ",
        "outputId": "abf5b64c-6f97-4813-edd7-3551a2a5341a",
        "colab": {
          "base_uri": "https://localhost:8080/"
        }
      },
      "execution_count": 32,
      "outputs": [
        {
          "output_type": "stream",
          "name": "stdout",
          "text": [
            "Dom\n",
            "('Charlie', 'Miles')\n",
            "Miles\n"
          ]
        }
      ]
    },
    {
      "cell_type": "code",
      "source": [
        "# Dictionaries / Maps\n",
        "\n",
        "thisdict = {\n",
        "    \"type\": \"Student\",\n",
        "    \"name\": \"Li\",\n",
        "    \"year\": 2003\n",
        "}\n",
        "print(thisdict)\n",
        "print(thisdict[\"name\"])\n",
        "print(thisdict[\"year\"])\n",
        "\n",
        "thisdict2 = {\n",
        "    \"Li\" : {\n",
        "        \"name\": \"Li McKenzie\",\n",
        "        \"type\": \"Student\",\n",
        "        \"year\": 2003\n",
        "    },\n",
        "    \"Dom\" : {\n",
        "        \"name\": \"Dom Winsborrow\",\n",
        "        \"type\": \"Student\",\n",
        "        \"year\": 2005\n",
        "    },\n",
        "    \"Charlie\" : {\n",
        "        \"name\": \"Charlie Birt\",\n",
        "        \"type\": \"Student\",\n",
        "        \"year\": 2005\n",
        "    }\n",
        "}\n",
        "\n",
        "print(thisdict2)\n",
        "\n",
        "import pprint as pprint\n",
        "\n",
        "pprint.pprint(thisdict2)\n",
        "len(thisdict2)"
      ],
      "metadata": {
        "id": "iwgXGHz8nxIj",
        "outputId": "48f79782-f6c8-404f-f4d2-ba3ba0186039",
        "colab": {
          "base_uri": "https://localhost:8080/"
        }
      },
      "execution_count": 38,
      "outputs": [
        {
          "output_type": "stream",
          "name": "stdout",
          "text": [
            "{'type': 'Student', 'name': 'Li', 'year': 2003}\n",
            "Li\n",
            "2003\n",
            "{'Li': {'name': 'Li McKenzie', 'type': 'Student', 'year': 2003}, 'Dom': {'name': 'Dom Winsborrow', 'type': 'Student', 'year': 2005}, 'Charlie': {'name': 'Charlie Birt', 'type': 'Student', 'year': 2005}}\n",
            "{'Charlie': {'name': 'Charlie Birt', 'type': 'Student', 'year': 2005},\n",
            " 'Dom': {'name': 'Dom Winsborrow', 'type': 'Student', 'year': 2005},\n",
            " 'Li': {'name': 'Li McKenzie', 'type': 'Student', 'year': 2003}}\n"
          ]
        },
        {
          "output_type": "execute_result",
          "data": {
            "text/plain": [
              "3"
            ]
          },
          "metadata": {},
          "execution_count": 38
        }
      ]
    },
    {
      "cell_type": "markdown",
      "metadata": {
        "ExecuteTime": {
          "end_time": "2021-11-23T11:23:34.931728Z",
          "start_time": "2021-11-23T11:23:34.906671Z"
        },
        "id": "JEhRdk1hc9MI"
      },
      "source": [
        "## Functions"
      ]
    },
    {
      "cell_type": "code",
      "execution_count": null,
      "metadata": {
        "ExecuteTime": {
          "end_time": "2021-11-23T11:39:40.470008Z",
          "start_time": "2021-11-23T11:39:40.457193Z"
        },
        "id": "7r_H9XHtc9MJ"
      },
      "outputs": [],
      "source": []
    },
    {
      "cell_type": "markdown",
      "metadata": {
        "ExecuteTime": {
          "end_time": "2021-11-23T11:26:46.304124Z",
          "start_time": "2021-11-23T11:26:46.085705Z"
        },
        "id": "ybvwzxmTc9MJ"
      },
      "source": [
        "## Looping\n"
      ]
    },
    {
      "cell_type": "code",
      "execution_count": null,
      "metadata": {
        "ExecuteTime": {
          "end_time": "2021-11-23T11:26:48.580082Z",
          "start_time": "2021-11-23T11:26:48.562696Z"
        },
        "id": "L_NUoih6c9MK"
      },
      "outputs": [],
      "source": []
    },
    {
      "cell_type": "markdown",
      "metadata": {
        "id": "k-g1Cwxtc9MK"
      },
      "source": [
        "## If statements"
      ]
    },
    {
      "cell_type": "code",
      "execution_count": null,
      "metadata": {
        "id": "wBAOG7J2c9ML"
      },
      "outputs": [],
      "source": []
    }
  ],
  "metadata": {
    "kernelspec": {
      "display_name": "Python 3 (ipykernel)",
      "language": "python",
      "name": "python3"
    },
    "language_info": {
      "codemirror_mode": {
        "name": "ipython",
        "version": 3
      },
      "file_extension": ".py",
      "mimetype": "text/x-python",
      "name": "python",
      "nbconvert_exporter": "python",
      "pygments_lexer": "ipython3",
      "version": "3.11.1"
    },
    "toc": {
      "base_numbering": 1,
      "nav_menu": {},
      "number_sections": true,
      "sideBar": true,
      "skip_h1_title": false,
      "title_cell": "Table of Contents",
      "title_sidebar": "Contents",
      "toc_cell": false,
      "toc_position": {
        "height": "calc(100% - 180px)",
        "left": "10px",
        "top": "150px",
        "width": "384px"
      },
      "toc_section_display": true,
      "toc_window_display": true
    },
    "varInspector": {
      "cols": {
        "lenName": 16,
        "lenType": 16,
        "lenVar": 40
      },
      "kernels_config": {
        "python": {
          "delete_cmd_postfix": "",
          "delete_cmd_prefix": "del ",
          "library": "var_list.py",
          "varRefreshCmd": "print(var_dic_list())"
        },
        "r": {
          "delete_cmd_postfix": ") ",
          "delete_cmd_prefix": "rm(",
          "library": "var_list.r",
          "varRefreshCmd": "cat(var_dic_list()) "
        }
      },
      "types_to_exclude": [
        "module",
        "function",
        "builtin_function_or_method",
        "instance",
        "_Feature"
      ],
      "window_display": false
    },
    "colab": {
      "provenance": [],
      "include_colab_link": true
    }
  },
  "nbformat": 4,
  "nbformat_minor": 0
}
