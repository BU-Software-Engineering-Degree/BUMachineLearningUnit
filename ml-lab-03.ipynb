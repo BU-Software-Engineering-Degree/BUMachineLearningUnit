{
 "cells": [
  {
   "cell_type": "markdown",
   "metadata": {},
   "source": [
    "# Machine Learning Lab 3\n",
    "\n",
    "## Loading the Iris Dataset\n"
   ]
  },
  {
   "cell_type": "code",
   "execution_count": 1,
   "metadata": {
    "ExecuteTime": {
     "end_time": "2021-10-11T10:03:49.144516Z",
     "start_time": "2021-10-11T10:03:48.691744Z"
    }
   },
   "outputs": [
    {
     "data": {
      "text/html": [
       "<div>\n",
       "<style scoped>\n",
       "    .dataframe tbody tr th:only-of-type {\n",
       "        vertical-align: middle;\n",
       "    }\n",
       "\n",
       "    .dataframe tbody tr th {\n",
       "        vertical-align: top;\n",
       "    }\n",
       "\n",
       "    .dataframe thead th {\n",
       "        text-align: right;\n",
       "    }\n",
       "</style>\n",
       "<table border=\"1\" class=\"dataframe\">\n",
       "  <thead>\n",
       "    <tr style=\"text-align: right;\">\n",
       "      <th></th>\n",
       "      <th>sepallength</th>\n",
       "      <th>sepalwidth</th>\n",
       "      <th>petallength</th>\n",
       "      <th>petalwidth</th>\n",
       "      <th>class</th>\n",
       "    </tr>\n",
       "  </thead>\n",
       "  <tbody>\n",
       "    <tr>\n",
       "      <th>0</th>\n",
       "      <td>5.1</td>\n",
       "      <td>3.5</td>\n",
       "      <td>1.4</td>\n",
       "      <td>0.2</td>\n",
       "      <td>Iris-setosa</td>\n",
       "    </tr>\n",
       "    <tr>\n",
       "      <th>1</th>\n",
       "      <td>4.9</td>\n",
       "      <td>3.0</td>\n",
       "      <td>1.4</td>\n",
       "      <td>0.2</td>\n",
       "      <td>Iris-setosa</td>\n",
       "    </tr>\n",
       "    <tr>\n",
       "      <th>2</th>\n",
       "      <td>4.7</td>\n",
       "      <td>3.2</td>\n",
       "      <td>1.3</td>\n",
       "      <td>0.2</td>\n",
       "      <td>Iris-setosa</td>\n",
       "    </tr>\n",
       "    <tr>\n",
       "      <th>3</th>\n",
       "      <td>4.6</td>\n",
       "      <td>3.1</td>\n",
       "      <td>1.5</td>\n",
       "      <td>0.2</td>\n",
       "      <td>Iris-setosa</td>\n",
       "    </tr>\n",
       "    <tr>\n",
       "      <th>4</th>\n",
       "      <td>5.0</td>\n",
       "      <td>3.6</td>\n",
       "      <td>1.4</td>\n",
       "      <td>0.2</td>\n",
       "      <td>Iris-setosa</td>\n",
       "    </tr>\n",
       "  </tbody>\n",
       "</table>\n",
       "</div>"
      ],
      "text/plain": [
       "   sepallength  sepalwidth  petallength  petalwidth        class\n",
       "0          5.1         3.5          1.4         0.2  Iris-setosa\n",
       "1          4.9         3.0          1.4         0.2  Iris-setosa\n",
       "2          4.7         3.2          1.3         0.2  Iris-setosa\n",
       "3          4.6         3.1          1.5         0.2  Iris-setosa\n",
       "4          5.0         3.6          1.4         0.2  Iris-setosa"
      ]
     },
     "execution_count": 1,
     "metadata": {},
     "output_type": "execute_result"
    }
   ],
   "source": [
    "from scipy.io import arff\n",
    "import pandas as pd\n",
    "\n",
    "# load the iris.arff data set\n",
    "data = arff.loadarff('data/iris.arff')\n",
    "iris_df = pd.DataFrame(data[0])\n",
    "iris_df['class'] = iris_df['class'].str.decode('utf-8') # fixes byte strings, avoiding strings like b'Iris-versicolor'\n",
    "\n",
    "# print the top of the file (just to check it's read and processed OK)\n",
    "iris_df.head()"
   ]
  },
  {
   "cell_type": "markdown",
   "metadata": {},
   "source": [
    "## Dataset information / basic stats"
   ]
  },
  {
   "cell_type": "code",
   "execution_count": 2,
   "metadata": {
    "ExecuteTime": {
     "end_time": "2021-10-11T10:03:49.170746Z",
     "start_time": "2021-10-11T10:03:49.146738Z"
    }
   },
   "outputs": [
    {
     "name": "stdout",
     "output_type": "stream",
     "text": [
      "\n",
      "General info\n",
      "\n",
      "<class 'pandas.core.frame.DataFrame'>\n",
      "RangeIndex: 150 entries, 0 to 149\n",
      "Data columns (total 5 columns):\n",
      " #   Column       Non-Null Count  Dtype  \n",
      "---  ------       --------------  -----  \n",
      " 0   sepallength  150 non-null    float64\n",
      " 1   sepalwidth   150 non-null    float64\n",
      " 2   petallength  150 non-null    float64\n",
      " 3   petalwidth   150 non-null    float64\n",
      " 4   class        150 non-null    object \n",
      "dtypes: float64(4), object(1)\n",
      "memory usage: 6.0+ KB\n",
      "None\n",
      "\n",
      "Statistics (of numeric features)\n",
      "\n",
      "       sepallength  sepalwidth  petallength  petalwidth\n",
      "count   150.000000  150.000000   150.000000  150.000000\n",
      "mean      5.843333    3.054000     3.758667    1.198667\n",
      "std       0.828066    0.433594     1.764420    0.763161\n",
      "min       4.300000    2.000000     1.000000    0.100000\n",
      "25%       5.100000    2.800000     1.600000    0.300000\n",
      "50%       5.800000    3.000000     4.350000    1.300000\n",
      "75%       6.400000    3.300000     5.100000    1.800000\n",
      "max       7.900000    4.400000     6.900000    2.500000\n",
      "\n",
      "Info about the class\n",
      "\n",
      "count                 150\n",
      "unique                  3\n",
      "top       Iris-versicolor\n",
      "freq                   50\n",
      "Name: class, dtype: object \n",
      "\n",
      "Iris-versicolor    50\n",
      "Iris-virginica     50\n",
      "Iris-setosa        50\n",
      "Name: class, dtype: int64\n"
     ]
    }
   ],
   "source": [
    "print(\"\\nGeneral info\\n\")\n",
    "print(iris_df.info())\n",
    "\n",
    "print(\"\\nStatistics (of numeric features)\\n\")\n",
    "print(iris_df.describe())\n",
    "\n",
    "print(\"\\nInfo about the class\\n\")\n",
    "print(iris_df['class'].describe(),\"\\n\")\n",
    "print(iris_df['class'].value_counts())"
   ]
  },
  {
   "cell_type": "markdown",
   "metadata": {},
   "source": [
    "## Basic Plotting"
   ]
  },
  {
   "cell_type": "code",
   "execution_count": 3,
   "metadata": {
    "ExecuteTime": {
     "end_time": "2021-10-11T10:03:49.174645Z",
     "start_time": "2021-10-11T10:03:49.172773Z"
    }
   },
   "outputs": [],
   "source": [
    "# task 1.3.1\n"
   ]
  },
  {
   "cell_type": "code",
   "execution_count": 4,
   "metadata": {
    "ExecuteTime": {
     "end_time": "2021-10-11T10:03:49.178513Z",
     "start_time": "2021-10-11T10:03:49.176753Z"
    }
   },
   "outputs": [],
   "source": [
    "# task 1.3.2\n"
   ]
  },
  {
   "cell_type": "code",
   "execution_count": 5,
   "metadata": {
    "ExecuteTime": {
     "end_time": "2021-10-11T10:03:49.183362Z",
     "start_time": "2021-10-11T10:03:49.180656Z"
    }
   },
   "outputs": [],
   "source": [
    "# Task 1.3.3\n"
   ]
  },
  {
   "cell_type": "code",
   "execution_count": 6,
   "metadata": {
    "ExecuteTime": {
     "end_time": "2021-10-11T10:03:49.187952Z",
     "start_time": "2021-10-11T10:03:49.185245Z"
    }
   },
   "outputs": [],
   "source": [
    "# Task 1.3.4 - the matplotlib way\n"
   ]
  },
  {
   "cell_type": "code",
   "execution_count": 7,
   "metadata": {
    "ExecuteTime": {
     "end_time": "2021-10-11T10:03:49.193091Z",
     "start_time": "2021-10-11T10:03:49.190356Z"
    }
   },
   "outputs": [],
   "source": [
    "# Task 1.3.4\n"
   ]
  },
  {
   "cell_type": "markdown",
   "metadata": {},
   "source": [
    "## Visualising feature data"
   ]
  },
  {
   "cell_type": "code",
   "execution_count": 8,
   "metadata": {
    "ExecuteTime": {
     "end_time": "2021-10-11T10:03:49.200041Z",
     "start_time": "2021-10-11T10:03:49.197362Z"
    }
   },
   "outputs": [],
   "source": [
    "# Task 1.4.1\n"
   ]
  },
  {
   "cell_type": "code",
   "execution_count": 9,
   "metadata": {
    "ExecuteTime": {
     "end_time": "2021-10-11T10:03:49.204644Z",
     "start_time": "2021-10-11T10:03:49.202902Z"
    }
   },
   "outputs": [],
   "source": [
    "# Task 1.4.2\n"
   ]
  },
  {
   "cell_type": "code",
   "execution_count": 10,
   "metadata": {
    "ExecuteTime": {
     "end_time": "2021-10-11T10:03:49.209335Z",
     "start_time": "2021-10-11T10:03:49.206920Z"
    }
   },
   "outputs": [],
   "source": [
    "# Task 1.4.3 - a histogram for all features\n"
   ]
  },
  {
   "cell_type": "code",
   "execution_count": 11,
   "metadata": {
    "ExecuteTime": {
     "end_time": "2021-10-11T10:03:49.213776Z",
     "start_time": "2021-10-11T10:03:49.211016Z"
    }
   },
   "outputs": [],
   "source": [
    "# Task 1.4.4\n"
   ]
  },
  {
   "cell_type": "code",
   "execution_count": 12,
   "metadata": {
    "ExecuteTime": {
     "end_time": "2021-10-11T10:03:49.218632Z",
     "start_time": "2021-10-11T10:03:49.216138Z"
    }
   },
   "outputs": [],
   "source": [
    "# Task 1.4.5 - a simple scatter plot for sepal length vs sepal width\n"
   ]
  },
  {
   "cell_type": "code",
   "execution_count": 13,
   "metadata": {
    "ExecuteTime": {
     "end_time": "2021-10-11T10:03:49.223523Z",
     "start_time": "2021-10-11T10:03:49.221140Z"
    }
   },
   "outputs": [],
   "source": [
    "# Task 1.4.6 - a colour coded scatter plot according to class (also for for sepal length vs sepal width)\n"
   ]
  },
  {
   "cell_type": "markdown",
   "metadata": {},
   "source": [
    "## Noise"
   ]
  },
  {
   "cell_type": "code",
   "execution_count": 14,
   "metadata": {
    "ExecuteTime": {
     "end_time": "2021-10-11T10:03:49.228702Z",
     "start_time": "2021-10-11T10:03:49.226341Z"
    }
   },
   "outputs": [],
   "source": [
    "# Box plot in matplotlib/pandas\n"
   ]
  },
  {
   "cell_type": "code",
   "execution_count": 15,
   "metadata": {
    "ExecuteTime": {
     "end_time": "2021-10-11T10:03:49.233211Z",
     "start_time": "2021-10-11T10:03:49.231312Z"
    }
   },
   "outputs": [],
   "source": [
    "# and... using Seborn\n"
   ]
  },
  {
   "cell_type": "markdown",
   "metadata": {},
   "source": [
    "## Correlation Analysis"
   ]
  },
  {
   "cell_type": "code",
   "execution_count": 16,
   "metadata": {
    "ExecuteTime": {
     "end_time": "2021-10-11T10:03:49.237208Z",
     "start_time": "2021-10-11T10:03:49.235005Z"
    }
   },
   "outputs": [],
   "source": [
    "# Calculate correlation coefficient sepal length and sepal width\n",
    "\n",
    "\n",
    "# Task 1.6.1 - use Spearman to calculate the correlation coefficient too\n"
   ]
  },
  {
   "cell_type": "code",
   "execution_count": 17,
   "metadata": {
    "ExecuteTime": {
     "end_time": "2021-10-11T10:03:49.241797Z",
     "start_time": "2021-10-11T10:03:49.239577Z"
    }
   },
   "outputs": [],
   "source": [
    "# Compute pairwise correlation of all features\n"
   ]
  },
  {
   "cell_type": "code",
   "execution_count": 18,
   "metadata": {
    "ExecuteTime": {
     "end_time": "2021-10-11T10:03:49.247348Z",
     "start_time": "2021-10-11T10:03:49.244806Z"
    }
   },
   "outputs": [],
   "source": [
    "# Question 1.6.2 - which features have the strongest correlation?\n"
   ]
  },
  {
   "cell_type": "code",
   "execution_count": 19,
   "metadata": {
    "ExecuteTime": {
     "end_time": "2021-10-11T10:03:49.251424Z",
     "start_time": "2021-10-11T10:03:49.249570Z"
    }
   },
   "outputs": [],
   "source": [
    "# Correlation matrix - Seaborn heatmap \n"
   ]
  },
  {
   "cell_type": "code",
   "execution_count": 20,
   "metadata": {
    "ExecuteTime": {
     "end_time": "2021-10-11T10:03:49.255918Z",
     "start_time": "2021-10-11T10:03:49.253423Z"
    }
   },
   "outputs": [],
   "source": [
    "# Correlation matrix - customisations\n"
   ]
  },
  {
   "cell_type": "code",
   "execution_count": 21,
   "metadata": {
    "ExecuteTime": {
     "end_time": "2021-10-11T10:03:49.260207Z",
     "start_time": "2021-10-11T10:03:49.257874Z"
    }
   },
   "outputs": [],
   "source": [
    "# Correlation matrix - https://towardsdatascience.com/better-heatmaps-and-correlation-matrix-plots-in-python-41445d0f2bec\n"
   ]
  },
  {
   "cell_type": "markdown",
   "metadata": {},
   "source": [
    "## 2.1 Loading the IMDB Movies Dataset"
   ]
  },
  {
   "cell_type": "code",
   "execution_count": 22,
   "metadata": {
    "ExecuteTime": {
     "end_time": "2021-10-11T10:03:49.264227Z",
     "start_time": "2021-10-11T10:03:49.261921Z"
    }
   },
   "outputs": [],
   "source": [
    "# imdb_df = ..."
   ]
  },
  {
   "cell_type": "code",
   "execution_count": null,
   "metadata": {},
   "outputs": [],
   "source": []
  },
  {
   "cell_type": "code",
   "execution_count": null,
   "metadata": {},
   "outputs": [],
   "source": []
  },
  {
   "cell_type": "markdown",
   "metadata": {},
   "source": [
    "## Duplicates"
   ]
  },
  {
   "cell_type": "code",
   "execution_count": 23,
   "metadata": {
    "ExecuteTime": {
     "end_time": "2021-10-11T10:03:49.274675Z",
     "start_time": "2021-10-11T10:03:49.272790Z"
    }
   },
   "outputs": [],
   "source": [
    "# Get a Pandas Series (vector) indicating TRUE for rows that are a duplicate\n"
   ]
  },
  {
   "cell_type": "code",
   "execution_count": 24,
   "metadata": {
    "ExecuteTime": {
     "end_time": "2021-10-11T10:03:49.281256Z",
     "start_time": "2021-10-11T10:03:49.279485Z"
    }
   },
   "outputs": [],
   "source": [
    "# Counting the True/False entries - should show 3 duplicates (True)\n"
   ]
  },
  {
   "cell_type": "code",
   "execution_count": 25,
   "metadata": {
    "ExecuteTime": {
     "end_time": "2021-10-11T10:03:49.284946Z",
     "start_time": "2021-10-11T10:03:49.283250Z"
    }
   },
   "outputs": [],
   "source": [
    "# Get the actual rows that are duplicates\n"
   ]
  },
  {
   "cell_type": "code",
   "execution_count": 26,
   "metadata": {
    "ExecuteTime": {
     "end_time": "2021-10-11T10:03:49.288753Z",
     "start_time": "2021-10-11T10:03:49.286894Z"
    }
   },
   "outputs": [],
   "source": [
    "# Removing the duplicate rows\n"
   ]
  },
  {
   "cell_type": "markdown",
   "metadata": {},
   "source": [
    "## Missing Values"
   ]
  },
  {
   "cell_type": "code",
   "execution_count": 27,
   "metadata": {
    "ExecuteTime": {
     "end_time": "2021-10-11T10:03:49.292073Z",
     "start_time": "2021-10-11T10:03:49.290225Z"
    }
   },
   "outputs": [],
   "source": [
    "# Get DataFrame indicating True/False for whether values are missing or not\n"
   ]
  },
  {
   "cell_type": "code",
   "execution_count": 28,
   "metadata": {
    "ExecuteTime": {
     "end_time": "2021-10-11T10:03:49.296282Z",
     "start_time": "2021-10-11T10:03:49.293925Z"
    }
   },
   "outputs": [],
   "source": [
    "# Get the number of missing entries per feature (column)\n"
   ]
  },
  {
   "cell_type": "code",
   "execution_count": 29,
   "metadata": {
    "ExecuteTime": {
     "end_time": "2021-10-11T10:03:49.299413Z",
     "start_time": "2021-10-11T10:03:49.297723Z"
    }
   },
   "outputs": [],
   "source": [
    "# Dropping all rows with missing values\n"
   ]
  },
  {
   "cell_type": "code",
   "execution_count": 30,
   "metadata": {
    "ExecuteTime": {
     "end_time": "2021-10-11T10:03:49.302227Z",
     "start_time": "2021-10-11T10:03:49.300816Z"
    }
   },
   "outputs": [],
   "source": [
    "# Imputing missing values, using the mean\n"
   ]
  },
  {
   "cell_type": "code",
   "execution_count": null,
   "metadata": {},
   "outputs": [],
   "source": []
  }
 ],
 "metadata": {
  "kernelspec": {
   "display_name": "Python 3 (ipykernel)",
   "language": "python",
   "name": "python3"
  },
  "language_info": {
   "codemirror_mode": {
    "name": "ipython",
    "version": 3
   },
   "file_extension": ".py",
   "mimetype": "text/x-python",
   "name": "python",
   "nbconvert_exporter": "python",
   "pygments_lexer": "ipython3",
   "version": "3.11.1"
  },
  "toc": {
   "base_numbering": 1,
   "nav_menu": {},
   "number_sections": true,
   "sideBar": true,
   "skip_h1_title": false,
   "title_cell": "Table of Contents",
   "title_sidebar": "Contents",
   "toc_cell": false,
   "toc_position": {},
   "toc_section_display": true,
   "toc_window_display": true
  },
  "varInspector": {
   "cols": {
    "lenName": 16,
    "lenType": 16,
    "lenVar": 40
   },
   "kernels_config": {
    "python": {
     "delete_cmd_postfix": "",
     "delete_cmd_prefix": "del ",
     "library": "var_list.py",
     "varRefreshCmd": "print(var_dic_list())"
    },
    "r": {
     "delete_cmd_postfix": ") ",
     "delete_cmd_prefix": "rm(",
     "library": "var_list.r",
     "varRefreshCmd": "cat(var_dic_list()) "
    }
   },
   "types_to_exclude": [
    "module",
    "function",
    "builtin_function_or_method",
    "instance",
    "_Feature"
   ],
   "window_display": false
  }
 },
 "nbformat": 4,
 "nbformat_minor": 2
}
